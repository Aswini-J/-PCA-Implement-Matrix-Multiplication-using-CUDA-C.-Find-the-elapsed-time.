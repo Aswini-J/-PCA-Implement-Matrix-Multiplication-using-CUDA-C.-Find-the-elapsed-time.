{
  "nbformat": 4,
  "nbformat_minor": 0,
  "metadata": {
    "colab": {
      "provenance": [],
      "gpuType": "T4",
      "include_colab_link": true
    },
    "kernelspec": {
      "name": "python3",
      "display_name": "Python 3"
    },
    "language_info": {
      "name": "python"
    },
    "accelerator": "GPU"
  },
  "cells": [
    {
      "cell_type": "markdown",
      "metadata": {
        "id": "view-in-github",
        "colab_type": "text"
      },
      "source": [
        "<a href=\"https://colab.research.google.com/github/Aswini-J/-PCA-Implement-Matrix-Multiplication-using-CUDA-C.-Find-the-elapsed-time./blob/main/Copy_of_Unrolling8_and_Unrolling16.ipynb\" target=\"_parent\"><img src=\"https://colab.research.google.com/assets/colab-badge.svg\" alt=\"Open In Colab\"/></a>"
      ]
    },
    {
      "cell_type": "code",
      "execution_count": null,
      "metadata": {
        "id": "JsaxrNRJpepl",
        "colab": {
          "base_uri": "https://localhost:8080/"
        },
        "outputId": "c192d41b-91b5-4a7b-d5a6-5bfc3c5df4e0"
      },
      "outputs": [
        {
          "output_type": "stream",
          "name": "stdout",
          "text": [
            "Collecting git+https://github.com/andreinechaev/nvcc4jupyter.git\n",
            "  Cloning https://github.com/andreinechaev/nvcc4jupyter.git to /tmp/pip-req-build-2ctromvh\n",
            "  Running command git clone --filter=blob:none --quiet https://github.com/andreinechaev/nvcc4jupyter.git /tmp/pip-req-build-2ctromvh\n",
            "  Resolved https://github.com/andreinechaev/nvcc4jupyter.git to commit 28f872a2f99a1b201bcd0db14fdbc5a496b9bfd7\n",
            "  Installing build dependencies ... \u001b[?25l\u001b[?25hdone\n",
            "  Getting requirements to build wheel ... \u001b[?25l\u001b[?25hdone\n",
            "  Preparing metadata (pyproject.toml) ... \u001b[?25l\u001b[?25hdone\n",
            "Building wheels for collected packages: nvcc4jupyter\n",
            "  Building wheel for nvcc4jupyter (pyproject.toml) ... \u001b[?25l\u001b[?25hdone\n",
            "  Created wheel for nvcc4jupyter: filename=nvcc4jupyter-1.2.1-py3-none-any.whl size=10742 sha256=fdb30b442a03a2b978d94f242f4f3839c3b517111d4c5bcc31496f40b5aacbba\n",
            "  Stored in directory: /tmp/pip-ephem-wheel-cache-w9o321ec/wheels/7d/b9/66/459b9938664e6a93d1a85323ec52f7e51cd7265d253410a7d8\n",
            "Successfully built nvcc4jupyter\n",
            "Installing collected packages: nvcc4jupyter\n",
            "Successfully installed nvcc4jupyter-1.2.1\n",
            "Detected platform \"Colab\". Running its setup...\n",
            "Source files will be saved in \"/tmp/tmpejvdparp\".\n"
          ]
        }
      ],
      "source": [
        "!pip install git+https://github.com/andreinechaev/nvcc4jupyter.git\n",
        "%load_ext nvcc4jupyter"
      ]
    },
    {
      "cell_type": "code",
      "source": [
        "!nvcc -arch=sm_75 reduction_unroll8.cu -o reduction\n",
        "!./reduction"
      ],
      "metadata": {
        "colab": {
          "base_uri": "https://localhost:8080/"
        },
        "id": "RPzfGG9CVt8K",
        "outputId": "3989af56-486f-4758-cf5d-298ea78e7399"
      },
      "execution_count": null,
      "outputs": [
        {
          "output_type": "stream",
          "name": "stdout",
          "text": [
            "CPU sum: 2139353471\n",
            "GPU sum: 2139353471\n"
          ]
        }
      ]
    },
    {
      "cell_type": "code",
      "source": [
        "%%writefile reduction_unroll8_16_simple.cu\n",
        "#include <stdio.h>\n",
        "#include <stdlib.h>\n",
        "#include <cuda_runtime.h>\n",
        "\n",
        "#define CHECK(call) {                                                    \\\n",
        "    const cudaError_t error = call;                                      \\\n",
        "    if (error != cudaSuccess) {                                          \\\n",
        "        printf(\"Error: %s:%d, \", __FILE__, __LINE__);                    \\\n",
        "        printf(\"code:%d, reason: %s\\n\", error, cudaGetErrorString(error)); \\\n",
        "        exit(1);                                                         \\\n",
        "    }                                                                    \\\n",
        "}\n",
        "\n",
        "#define BDIM 512\n",
        "\n",
        "// ----------- Unroll-8 kernel -----------\n",
        "__global__ void reduceUnrolling8(int *g_idata, int *g_odata, unsigned int n)\n",
        "{\n",
        "\n",
        "\n",
        "\n",
        "\n",
        "\n",
        "\n",
        "\n",
        "//unrolling 8\n",
        "//Type your code here\n",
        "\n",
        "\n",
        "\n",
        "\n",
        "\n",
        "\n",
        "\n",
        "\n",
        "\n",
        "\n",
        "\n",
        "\n",
        "\n",
        "    __syncthreads();\n",
        "\n",
        "    for (int stride = blockDim.x / 2; stride > 0; stride >>= 1) {\n",
        "        if (tid < stride)\n",
        "            idata[tid] += idata[tid + stride];\n",
        "        __syncthreads();\n",
        "    }\n",
        "\n",
        "    if (tid == 0) g_odata[blockIdx.x] = idata[0];\n",
        "}\n",
        "\n",
        "// ----------- Unroll-16 kernel -----------\n",
        "\n",
        "__global__ void reduceUnrolling16(int *g_idata, int *g_odata, unsigned int n)\n",
        "{\n",
        "\n",
        "\n",
        "    // convert global data pointer to local block pointer\n",
        "\n",
        "\n",
        "    // unrolling 16\n",
        "    //Type your code here\n",
        "\n",
        "\n",
        "\n",
        "\n",
        "\n",
        "\n",
        "\n",
        "\n",
        "\n",
        "\n",
        "\n",
        "\n",
        "\n",
        "\n",
        "\n",
        "\n",
        "\n",
        "\n",
        "\n",
        "\n",
        "\n",
        "\n",
        "\n",
        "\n",
        "\n",
        "\n",
        "    __syncthreads();\n",
        "\n",
        "    // in-place reduction in global memory\n",
        "    for (int stride = blockDim.x / 2; stride > 0; stride >>= 1) {\n",
        "        if (tid < stride) {\n",
        "            idata[tid] += idata[tid + stride];\n",
        "        }\n",
        "        __syncthreads();\n",
        "    }\n",
        "\n",
        "    // write result of this block\n",
        "    if (tid == 0) g_odata[blockIdx.x] = idata[0];\n",
        "}\n",
        "\n",
        "\n",
        "// ----------- CPU reference reduction -----------\n",
        "int cpuReduce(int *h_idata, int size) {\n",
        "    int sum = 0;\n",
        "    for (int i = 0; i < size; i++) sum += h_idata[i];\n",
        "    return sum;\n",
        "}\n",
        "\n",
        "int main() {\n",
        "    int size = 1 << 24;  // 16M elements\n",
        "    int bytes = size * sizeof(int);\n",
        "\n",
        "    // Allocate and initialize host array\n",
        "    int *h_idata = (int *)malloc(bytes);\n",
        "    for (int i = 0; i < size; i++)\n",
        "        h_idata[i] = rand() & 0xFF;\n",
        "\n",
        "    int *d_idata, *d_odata;\n",
        "    CHECK(cudaMalloc((void **)&d_idata, bytes));\n",
        "\n",
        "    // Grid sizes for unroll-8 and unroll-16\n",
        "    int grid8  = (size + BDIM * 8 - 1) / (BDIM * 8);\n",
        "    int grid16 = (size + BDIM * 16 - 1) / (BDIM * 16);\n",
        "    CHECK(cudaMalloc((void **)&d_odata, grid8 * sizeof(int))); // max needed\n",
        "\n",
        "    // ---------------- CPU reduction ----------------\n",
        "    cudaEvent_t start, stop;\n",
        "    CHECK(cudaEventCreate(&start));\n",
        "    CHECK(cudaEventCreate(&stop));\n",
        "    CHECK(cudaEventRecord(start));\n",
        "    int cpu_sum = cpuReduce(h_idata, size);\n",
        "    CHECK(cudaEventRecord(stop));\n",
        "    CHECK(cudaEventSynchronize(stop));\n",
        "    float cpuTime;\n",
        "    CHECK(cudaEventElapsedTime(&cpuTime, start, stop));\n",
        "\n",
        "    // ---------------- GPU Unroll-8 ----------------\n",
        "    CHECK(cudaMemcpy(d_idata, h_idata, bytes, cudaMemcpyHostToDevice));\n",
        "    CHECK(cudaEventRecord(start));\n",
        "    reduceUnrolling8<<<grid8, BDIM>>>(d_idata, d_odata, size);\n",
        "    cudaError_t err8 = cudaGetLastError();\n",
        "    if (err8 != cudaSuccess) {\n",
        "        printf(\"Kernel launch error (Unroll-8): %s\\n\", cudaGetErrorString(err8));\n",
        "        return -1;\n",
        "    }\n",
        "    CHECK(cudaDeviceSynchronize());\n",
        "    CHECK(cudaEventRecord(stop));\n",
        "    CHECK(cudaEventSynchronize(stop));\n",
        "    float gpuTime8;\n",
        "    CHECK(cudaEventElapsedTime(&gpuTime8, start, stop));\n",
        "\n",
        "    int *h_odata = (int *)malloc(grid8 * sizeof(int));\n",
        "    CHECK(cudaMemcpy(h_odata, d_odata, grid8 * sizeof(int), cudaMemcpyDeviceToHost));\n",
        "    int gpu_sum8 = 0;\n",
        "    for (int i = 0; i < grid8; i++) gpu_sum8 += h_odata[i];\n",
        "\n",
        "    // ---------------- GPU Unroll-16 ----------------\n",
        "    CHECK(cudaMemcpy(d_idata, h_idata, bytes, cudaMemcpyHostToDevice));\n",
        "    CHECK(cudaEventRecord(start));\n",
        "    reduceUnrolling16<<<grid16, BDIM>>>(d_idata, d_odata, size);\n",
        "    cudaError_t err16 = cudaGetLastError();\n",
        "    if (err16 != cudaSuccess) {\n",
        "        printf(\"Kernel launch error (Unroll-16): %s\\n\", cudaGetErrorString(err16));\n",
        "        return -1;\n",
        "    }\n",
        "    CHECK(cudaDeviceSynchronize());\n",
        "    CHECK(cudaEventRecord(stop));\n",
        "    CHECK(cudaEventSynchronize(stop));\n",
        "    float gpuTime16;\n",
        "    CHECK(cudaEventElapsedTime(&gpuTime16, start, stop));\n",
        "\n",
        "    CHECK(cudaMemcpy(h_odata, d_odata, grid16 * sizeof(int), cudaMemcpyDeviceToHost));\n",
        "    int gpu_sum16 = 0;\n",
        "    for (int i = 0; i < grid16; i++) gpu_sum16 += h_odata[i];\n",
        "\n",
        "    // ---------------- Print results ----------------\n",
        "    printf(\"CPU sum   : %d, time %.5f sec\\n\", cpu_sum, cpuTime / 1000.0f);\n",
        "    printf(\"GPU sum-8 : %d, time %.5f ms\\n\", gpu_sum8, gpuTime8);\n",
        "    printf(\"GPU sum-16: %d, time %.5f ms\\n\", gpu_sum16, gpuTime16);\n",
        "\n",
        "    // ---------------- Cleanup ----------------\n",
        "    free(h_idata);\n",
        "    free(h_odata);\n",
        "    cudaFree(d_idata);\n",
        "    cudaFree(d_odata);\n",
        "    cudaEventDestroy(start);\n",
        "    cudaEventDestroy(stop);\n",
        "\n",
        "    return 0;\n",
        "}\n"
      ],
      "metadata": {
        "colab": {
          "base_uri": "https://localhost:8080/"
        },
        "id": "KPszdjFYfHcj",
        "outputId": "62f15e8c-1731-486a-afe4-95881515201a"
      },
      "execution_count": null,
      "outputs": [
        {
          "output_type": "stream",
          "name": "stdout",
          "text": [
            "Writing reduction_unroll8_16_simple.cu\n"
          ]
        }
      ]
    },
    {
      "cell_type": "code",
      "source": [
        "!nvcc -arch=sm_75 reduction_unroll8_16_simple.cu -o reduction\n",
        "!./reduction\n"
      ],
      "metadata": {
        "colab": {
          "base_uri": "https://localhost:8080/"
        },
        "id": "QsSpU5JBft5j",
        "outputId": "d108dc1b-b704-483f-a0bc-3e3b946b49ea"
      },
      "execution_count": null,
      "outputs": [
        {
          "output_type": "stream",
          "name": "stdout",
          "text": [
            "CPU sum   : 2139353471, time 0.05219 sec\n",
            "GPU sum-8 : 2139353471, time 0.48941 ms\n",
            "GPU sum-16: 2139353471, time 0.29626 ms\n"
          ]
        }
      ]
    }
  ]
}